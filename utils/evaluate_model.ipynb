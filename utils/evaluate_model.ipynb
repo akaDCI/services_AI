{
 "cells": [
  {
   "cell_type": "code",
   "execution_count": 1,
   "id": "3a9964a4-706b-4832-b4ab-9c668ba524e2",
   "metadata": {
    "height": 30
   },
   "outputs": [],
   "source": [
    "%load_ext tensorboard"
   ]
  },
  {
   "cell_type": "code",
   "execution_count": 2,
   "id": "84fd0dac-ca26-480b-975b-729ee01c09d7",
   "metadata": {
    "height": 47
   },
   "outputs": [
    {
     "data": {
      "text/html": [
       "\n",
       "          <iframe id=\"tensorboard-frame-fe0c83c73518de76\" width=\"100%\" height=\"800\" frameborder=\"0\" src=\"https://s172-31-12-156p13744.lab-aws-production.deeplearning.ai/\">\n",
       "          </iframe>\n",
       "          <script>\n",
       "            (function() {\n",
       "              const frame = document.getElementById(\"tensorboard-frame-fe0c83c73518de76\");\n",
       "            })();\n",
       "          </script>\n",
       "        "
      ],
      "text/plain": [
       "<IPython.core.display.HTML object>"
      ]
     },
     "metadata": {},
     "output_type": "display_data"
    }
   ],
   "source": [
    "port = %env PORT1\n",
    "%tensorboard --logdir reward-logs --port $port --bind_all "
   ]
  },
  {
   "cell_type": "code",
   "execution_count": 3,
   "id": "4697495d-424a-4ad3-862a-995acfce49f0",
   "metadata": {
    "height": 47
   },
   "outputs": [
    {
     "name": "stdout",
     "output_type": "stream",
     "text": [
      "\u001b[0m\u001b[01;32mrlhf_526064905871_rlhf-train-template-20231025162358_rewardmodeltrainer_-5577427763033276416_tensorboard_metrics_train_events.out.tfevents.1698255866.t1v-n-807add68-w-1.1.0.v2\u001b[0m\u001b[K*\r\n"
     ]
    }
   ],
   "source": [
    "# Look at what this directory has\n",
    "%ls reward-logs"
   ]
  },
  {
   "cell_type": "code",
   "execution_count": 4,
   "id": "15b1d22b-5266-4859-a24d-47d03a5ec6d8",
   "metadata": {
    "height": 47
   },
   "outputs": [
    {
     "data": {
      "text/html": [
       "\n",
       "          <iframe id=\"tensorboard-frame-f087477ca4aeb42e\" width=\"100%\" height=\"800\" frameborder=\"0\" src=\"https://s172-31-12-156p37525.lab-aws-production.deeplearning.ai/\">\n",
       "          </iframe>\n",
       "          <script>\n",
       "            (function() {\n",
       "              const frame = document.getElementById(\"tensorboard-frame-f087477ca4aeb42e\");\n",
       "            })();\n",
       "          </script>\n",
       "        "
      ],
      "text/plain": [
       "<IPython.core.display.HTML object>"
      ]
     },
     "metadata": {},
     "output_type": "display_data"
    }
   ],
   "source": [
    "port = %env PORT2\n",
    "%tensorboard --logdir reinforcer-logs --port $port --bind_all"
   ]
  },
  {
   "cell_type": "code",
   "execution_count": 5,
   "id": "b0b17b76-9840-44a4-a503-650f22a4d38a",
   "metadata": {
    "height": 47
   },
   "outputs": [
    {
     "data": {
      "text/html": [
       "\n",
       "          <iframe id=\"tensorboard-frame-b860a5ccb3af2c08\" width=\"100%\" height=\"800\" frameborder=\"0\" src=\"https://s172-31-12-156p23077.lab-aws-production.deeplearning.ai/\">\n",
       "          </iframe>\n",
       "          <script>\n",
       "            (function() {\n",
       "              const frame = document.getElementById(\"tensorboard-frame-b860a5ccb3af2c08\");\n",
       "            })();\n",
       "          </script>\n",
       "        "
      ],
      "text/plain": [
       "<IPython.core.display.HTML object>"
      ]
     },
     "metadata": {},
     "output_type": "display_data"
    }
   ],
   "source": [
    "port = %env PORT3\n",
    "%tensorboard --logdir reinforcer-fulldata-logs --port $port --bind_all"
   ]
  },
  {
   "cell_type": "code",
   "execution_count": 7,
   "id": "163d5544-a1fe-4c22-8d36-86f51a715889",
   "metadata": {
    "height": 30
   },
   "outputs": [],
   "source": [
    "import json"
   ]
  },
  {
   "cell_type": "code",
   "execution_count": 8,
   "id": "17305cf4-9615-475c-a747-c40e48354e8b",
   "metadata": {
    "height": 30
   },
   "outputs": [],
   "source": [
    "eval_tuned_path = 'eval_results_tuned.jsonl'"
   ]
  },
  {
   "cell_type": "code",
   "execution_count": 9,
   "id": "3e0b791a-975e-4ec2-9268-281eb9377c37",
   "metadata": {
    "height": 30
   },
   "outputs": [],
   "source": [
    "eval_data_tuned = []"
   ]
  },
  {
   "cell_type": "code",
   "execution_count": 10,
   "id": "ed93decd-c6ed-4746-bf9f-3351d414eb77",
   "metadata": {
    "height": 64
   },
   "outputs": [],
   "source": [
    "with open(eval_tuned_path) as f:\n",
    "    for line in f:\n",
    "        eval_data_tuned.append(json.loads(line))"
   ]
  },
  {
   "cell_type": "code",
   "execution_count": 11,
   "id": "81f5f3d1-17dc-45f7-8b25-6fe3f80ca8e6",
   "metadata": {
    "height": 47
   },
   "outputs": [],
   "source": [
    "# Import for printing purposes\n",
    "from utils import print_d"
   ]
  },
  {
   "cell_type": "code",
   "execution_count": 13,
   "id": "37199f28-7d52-4530-98e6-2ba2fe255d6e",
   "metadata": {
    "height": 30
   },
   "outputs": [],
   "source": [
    "eval_untuned_path = 'eval_results_untuned.jsonl'"
   ]
  },
  {
   "cell_type": "code",
   "execution_count": 14,
   "id": "6deecff9-c5ca-4f8c-802a-b76c8e3c3777",
   "metadata": {
    "height": 30
   },
   "outputs": [],
   "source": [
    "eval_data_untuned = []"
   ]
  },
  {
   "cell_type": "code",
   "execution_count": 15,
   "id": "57ede73e-dcf6-49b1-947a-2524815680cf",
   "metadata": {
    "height": 64
   },
   "outputs": [],
   "source": [
    "with open(eval_untuned_path) as f:\n",
    "    for line in f:\n",
    "        eval_data_untuned.append(json.loads(line))"
   ]
  },
  {
   "cell_type": "code",
   "execution_count": 17,
   "id": "a18d95c7-5317-41c7-b545-749bbc536faa",
   "metadata": {
    "height": 64
   },
   "outputs": [],
   "source": [
    "# Extract all the prompts\n",
    "prompts = [sample['inputs']['inputs_pretokenized']\n",
    "           for sample in eval_data_tuned]"
   ]
  },
  {
   "cell_type": "code",
   "execution_count": 18,
   "id": "adddcb4a-ed37-4b2e-8b57-a455854f5b79",
   "metadata": {
    "height": 64
   },
   "outputs": [],
   "source": [
    "# Completions from the untuned model\n",
    "untuned_completions = [sample['prediction']\n",
    "                       for sample in eval_data_untuned]"
   ]
  },
  {
   "cell_type": "code",
   "execution_count": 19,
   "id": "b432b804-1214-45aa-b268-bcd11741b573",
   "metadata": {
    "height": 64
   },
   "outputs": [],
   "source": [
    "# Completions from the tuned model\n",
    "tuned_completions = [sample['prediction']\n",
    "                     for sample in eval_data_tuned]"
   ]
  },
  {
   "cell_type": "markdown",
   "id": "6cec6f78",
   "metadata": {},
   "source": [
    "- Now putting all together in one big dataframe"
   ]
  },
  {
   "cell_type": "code",
   "execution_count": 20,
   "id": "01e3fb37-02f6-4539-bf6f-ee7fc717e981",
   "metadata": {
    "height": 30
   },
   "outputs": [],
   "source": [
    "import pandas as pd"
   ]
  },
  {
   "cell_type": "code",
   "execution_count": 21,
   "id": "c86c93a8-3b65-470f-b110-018aa5e6fa09",
   "metadata": {
    "height": 81
   },
   "outputs": [],
   "source": [
    "results = pd.DataFrame(\n",
    "    data={'prompt': prompts,\n",
    "          'base_model':untuned_completions,\n",
    "          'tuned_model': tuned_completions})"
   ]
  },
  {
   "cell_type": "code",
   "execution_count": 22,
   "id": "3df43314-62fe-4c0e-ad20-6e41bd9a3045",
   "metadata": {
    "height": 30
   },
   "outputs": [],
   "source": [
    "pd.set_option('display.max_colwidth', None)"
   ]
  }
 ],
 "metadata": {
  "kernelspec": {
   "display_name": "Python 3 (ipykernel)",
   "language": "python",
   "name": "python3"
  },
  "language_info": {
   "codemirror_mode": {
    "name": "ipython",
    "version": 3
   },
   "file_extension": ".py",
   "mimetype": "text/x-python",
   "name": "python",
   "nbconvert_exporter": "python",
   "pygments_lexer": "ipython3",
   "version": "3.10.13"
  }
 },
 "nbformat": 4,
 "nbformat_minor": 5
}
